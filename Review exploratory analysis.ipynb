{
 "cells": [
  {
   "cell_type": "code",
   "execution_count": 14,
   "metadata": {},
   "outputs": [],
   "source": [
    "import pandas as pd\n",
    "import numpy as np\n",
    "\n",
    "reviews = pd.read_csv(\"reviews.csv\")"
   ]
  },
  {
   "cell_type": "code",
   "execution_count": 15,
   "metadata": {},
   "outputs": [
    {
     "data": {
      "text/html": [
       "<div>\n",
       "<style scoped>\n",
       "    .dataframe tbody tr th:only-of-type {\n",
       "        vertical-align: middle;\n",
       "    }\n",
       "\n",
       "    .dataframe tbody tr th {\n",
       "        vertical-align: top;\n",
       "    }\n",
       "\n",
       "    .dataframe thead th {\n",
       "        text-align: right;\n",
       "    }\n",
       "</style>\n",
       "<table border=\"1\" class=\"dataframe\">\n",
       "  <thead>\n",
       "    <tr style=\"text-align: right;\">\n",
       "      <th></th>\n",
       "      <th>listing_id</th>\n",
       "      <th>id</th>\n",
       "      <th>date</th>\n",
       "      <th>reviewer_id</th>\n",
       "      <th>reviewer_name</th>\n",
       "      <th>comments</th>\n",
       "    </tr>\n",
       "  </thead>\n",
       "  <tbody>\n",
       "    <tr>\n",
       "      <th>0</th>\n",
       "      <td>6983</td>\n",
       "      <td>8985</td>\n",
       "      <td>2009-09-04</td>\n",
       "      <td>31133</td>\n",
       "      <td>Jeff</td>\n",
       "      <td>Convenient location, clean apartment, great br...</td>\n",
       "    </tr>\n",
       "    <tr>\n",
       "      <th>1</th>\n",
       "      <td>6983</td>\n",
       "      <td>9199</td>\n",
       "      <td>2009-09-07</td>\n",
       "      <td>11472</td>\n",
       "      <td>Andrea</td>\n",
       "      <td>We really enjoyed staying to Simon in our firs...</td>\n",
       "    </tr>\n",
       "    <tr>\n",
       "      <th>2</th>\n",
       "      <td>6983</td>\n",
       "      <td>11763</td>\n",
       "      <td>2009-09-28</td>\n",
       "      <td>35317</td>\n",
       "      <td>Jeanine</td>\n",
       "      <td>Friendly host, save neighbourhood, clean appar...</td>\n",
       "    </tr>\n",
       "    <tr>\n",
       "      <th>3</th>\n",
       "      <td>6983</td>\n",
       "      <td>20616</td>\n",
       "      <td>2009-12-17</td>\n",
       "      <td>53151</td>\n",
       "      <td>Sonja</td>\n",
       "      <td>Simon is great!  Fantastic place to stay, supe...</td>\n",
       "    </tr>\n",
       "    <tr>\n",
       "      <th>4</th>\n",
       "      <td>6983</td>\n",
       "      <td>23168</td>\n",
       "      <td>2010-01-04</td>\n",
       "      <td>50856</td>\n",
       "      <td>James</td>\n",
       "      <td>Great bed, clean apartment, comfy bed, accomod...</td>\n",
       "    </tr>\n",
       "  </tbody>\n",
       "</table>\n",
       "</div>"
      ],
      "text/plain": [
       "   listing_id     id        date  reviewer_id reviewer_name  \\\n",
       "0        6983   8985  2009-09-04        31133          Jeff   \n",
       "1        6983   9199  2009-09-07        11472        Andrea   \n",
       "2        6983  11763  2009-09-28        35317       Jeanine   \n",
       "3        6983  20616  2009-12-17        53151         Sonja   \n",
       "4        6983  23168  2010-01-04        50856         James   \n",
       "\n",
       "                                            comments  \n",
       "0  Convenient location, clean apartment, great br...  \n",
       "1  We really enjoyed staying to Simon in our firs...  \n",
       "2  Friendly host, save neighbourhood, clean appar...  \n",
       "3  Simon is great!  Fantastic place to stay, supe...  \n",
       "4  Great bed, clean apartment, comfy bed, accomod...  "
      ]
     },
     "execution_count": 15,
     "metadata": {},
     "output_type": "execute_result"
    }
   ],
   "source": [
    "reviews.head()"
   ]
  },
  {
   "cell_type": "markdown",
   "metadata": {},
   "source": [
    "## Ideas to explore\n",
    "\n",
    "* Find relevant info per listing: Find all listing ID's: For each, count reviews, the the earliest review and its latest review.\n",
    "* Reviewer ids. Do some drop many reviews?\n",
    "* Can we do something with review comments?"
   ]
  },
  {
   "cell_type": "markdown",
   "metadata": {},
   "source": [
    "## Info per listing"
   ]
  },
  {
   "cell_type": "code",
   "execution_count": 10,
   "metadata": {},
   "outputs": [],
   "source": [
    "listing_ids = reviews['listing_id'].drop_duplicates().reset_index(drop = True)"
   ]
  },
  {
   "cell_type": "code",
   "execution_count": 17,
   "metadata": {},
   "outputs": [
    {
     "data": {
      "text/plain": [
       "0    2009\n",
       "1    2009\n",
       "2    2009\n",
       "3    2009\n",
       "4    2010\n",
       "Name: date, dtype: int64"
      ]
     },
     "execution_count": 17,
     "metadata": {},
     "output_type": "execute_result"
    }
   ],
   "source": [
    "reviews['date'] = reviews['date'].apply(lambda x: int(x[0:4]))\n",
    "reviews['date'].head()"
   ]
  },
  {
   "cell_type": "code",
   "execution_count": 23,
   "metadata": {},
   "outputs": [],
   "source": [
    "df = reviews.loc[:,['listing_id','date']]"
   ]
  },
  {
   "cell_type": "code",
   "execution_count": 33,
   "metadata": {},
   "outputs": [],
   "source": [
    "count = []\n",
    "earliestYear = []\n",
    "latestYear = []\n",
    "\n",
    "for i in range(0,listing_ids.count()):\n",
    "    r = df[df.listing_id == listing_ids[i]]\n",
    "    count.append(r.count()[0])\n",
    "    earliestYear.append(r.date.min())\n",
    "    latestYear.append(r.date.max())"
   ]
  },
  {
   "cell_type": "code",
   "execution_count": 34,
   "metadata": {},
   "outputs": [],
   "source": [
    "info_per_reviewed_listings = pd.DataFrame({'listing_id': listing_ids,\n",
    "                                           'review_count': count,\n",
    "                                           'earliestYear': earliestYear,\n",
    "                                           'latestYear': latestYear})"
   ]
  },
  {
   "cell_type": "code",
   "execution_count": 35,
   "metadata": {},
   "outputs": [
    {
     "data": {
      "text/html": [
       "<div>\n",
       "<style scoped>\n",
       "    .dataframe tbody tr th:only-of-type {\n",
       "        vertical-align: middle;\n",
       "    }\n",
       "\n",
       "    .dataframe tbody tr th {\n",
       "        vertical-align: top;\n",
       "    }\n",
       "\n",
       "    .dataframe thead th {\n",
       "        text-align: right;\n",
       "    }\n",
       "</style>\n",
       "<table border=\"1\" class=\"dataframe\">\n",
       "  <thead>\n",
       "    <tr style=\"text-align: right;\">\n",
       "      <th></th>\n",
       "      <th>listing_id</th>\n",
       "      <th>review_count</th>\n",
       "      <th>earliestYear</th>\n",
       "      <th>latestYear</th>\n",
       "    </tr>\n",
       "  </thead>\n",
       "  <tbody>\n",
       "    <tr>\n",
       "      <th>0</th>\n",
       "      <td>6983</td>\n",
       "      <td>167</td>\n",
       "      <td>2009</td>\n",
       "      <td>2019</td>\n",
       "    </tr>\n",
       "    <tr>\n",
       "      <th>1</th>\n",
       "      <td>26057</td>\n",
       "      <td>43</td>\n",
       "      <td>2013</td>\n",
       "      <td>2018</td>\n",
       "    </tr>\n",
       "    <tr>\n",
       "      <th>2</th>\n",
       "      <td>26473</td>\n",
       "      <td>245</td>\n",
       "      <td>2010</td>\n",
       "      <td>2019</td>\n",
       "    </tr>\n",
       "    <tr>\n",
       "      <th>3</th>\n",
       "      <td>29118</td>\n",
       "      <td>20</td>\n",
       "      <td>2010</td>\n",
       "      <td>2018</td>\n",
       "    </tr>\n",
       "    <tr>\n",
       "      <th>4</th>\n",
       "      <td>29618</td>\n",
       "      <td>87</td>\n",
       "      <td>2010</td>\n",
       "      <td>2014</td>\n",
       "    </tr>\n",
       "  </tbody>\n",
       "</table>\n",
       "</div>"
      ],
      "text/plain": [
       "   listing_id  review_count  earliestYear  latestYear\n",
       "0        6983           167          2009        2019\n",
       "1       26057            43          2013        2018\n",
       "2       26473           245          2010        2019\n",
       "3       29118            20          2010        2018\n",
       "4       29618            87          2010        2014"
      ]
     },
     "execution_count": 35,
     "metadata": {},
     "output_type": "execute_result"
    }
   ],
   "source": [
    "info_per_reviewed_listings.head()"
   ]
  },
  {
   "cell_type": "markdown",
   "metadata": {},
   "source": [
    "Hmm... let's calculate reviews per year, similar to reviews per month from listings summary. We'll be able to find the listings with most reviews and most frequent reviews."
   ]
  },
  {
   "cell_type": "code",
   "execution_count": 45,
   "metadata": {},
   "outputs": [],
   "source": [
    "freq = []\n",
    "for i in range(0,listing_ids.count()):\n",
    "    ## You need to plus by 1 to avoid division by zero,\n",
    "    ## and also because both first and last year are inclusive.\n",
    "    d = 1 + info_per_reviewed_listings.iloc[i,3] - info_per_reviewed_listings.iloc[i,2]\n",
    "    freq.append(info_per_reviewed_listings.iloc[i,1] / d)"
   ]
  },
  {
   "cell_type": "code",
   "execution_count": 48,
   "metadata": {},
   "outputs": [],
   "source": [
    "info_per_reviewed_listings['reviews_per_year'] = pd.Series(freq, index=listing_ids.index)"
   ]
  },
  {
   "cell_type": "code",
   "execution_count": 49,
   "metadata": {},
   "outputs": [
    {
     "data": {
      "text/html": [
       "<div>\n",
       "<style scoped>\n",
       "    .dataframe tbody tr th:only-of-type {\n",
       "        vertical-align: middle;\n",
       "    }\n",
       "\n",
       "    .dataframe tbody tr th {\n",
       "        vertical-align: top;\n",
       "    }\n",
       "\n",
       "    .dataframe thead th {\n",
       "        text-align: right;\n",
       "    }\n",
       "</style>\n",
       "<table border=\"1\" class=\"dataframe\">\n",
       "  <thead>\n",
       "    <tr style=\"text-align: right;\">\n",
       "      <th></th>\n",
       "      <th>listing_id</th>\n",
       "      <th>review_count</th>\n",
       "      <th>earliestYear</th>\n",
       "      <th>latestYear</th>\n",
       "      <th>reviews_per_year</th>\n",
       "    </tr>\n",
       "  </thead>\n",
       "  <tbody>\n",
       "    <tr>\n",
       "      <th>0</th>\n",
       "      <td>6983</td>\n",
       "      <td>167</td>\n",
       "      <td>2009</td>\n",
       "      <td>2019</td>\n",
       "      <td>15.181818</td>\n",
       "    </tr>\n",
       "    <tr>\n",
       "      <th>1</th>\n",
       "      <td>26057</td>\n",
       "      <td>43</td>\n",
       "      <td>2013</td>\n",
       "      <td>2018</td>\n",
       "      <td>7.166667</td>\n",
       "    </tr>\n",
       "    <tr>\n",
       "      <th>2</th>\n",
       "      <td>26473</td>\n",
       "      <td>245</td>\n",
       "      <td>2010</td>\n",
       "      <td>2019</td>\n",
       "      <td>24.500000</td>\n",
       "    </tr>\n",
       "    <tr>\n",
       "      <th>3</th>\n",
       "      <td>29118</td>\n",
       "      <td>20</td>\n",
       "      <td>2010</td>\n",
       "      <td>2018</td>\n",
       "      <td>2.222222</td>\n",
       "    </tr>\n",
       "    <tr>\n",
       "      <th>4</th>\n",
       "      <td>29618</td>\n",
       "      <td>87</td>\n",
       "      <td>2010</td>\n",
       "      <td>2014</td>\n",
       "      <td>17.400000</td>\n",
       "    </tr>\n",
       "  </tbody>\n",
       "</table>\n",
       "</div>"
      ],
      "text/plain": [
       "   listing_id  review_count  earliestYear  latestYear  reviews_per_year\n",
       "0        6983           167          2009        2019         15.181818\n",
       "1       26057            43          2013        2018          7.166667\n",
       "2       26473           245          2010        2019         24.500000\n",
       "3       29118            20          2010        2018          2.222222\n",
       "4       29618            87          2010        2014         17.400000"
      ]
     },
     "execution_count": 49,
     "metadata": {},
     "output_type": "execute_result"
    }
   ],
   "source": [
    "info_per_reviewed_listings.head()"
   ]
  },
  {
   "cell_type": "markdown",
   "metadata": {},
   "source": [
    "It's time to vizzle this shizzle."
   ]
  },
  {
   "cell_type": "code",
   "execution_count": 51,
   "metadata": {},
   "outputs": [],
   "source": [
    "import matplotlib\n",
    "%matplotlib inline\n",
    "from matplotlib import pyplot as plt"
   ]
  },
  {
   "cell_type": "code",
   "execution_count": 53,
   "metadata": {},
   "outputs": [
    {
     "data": {
      "text/plain": [
       "array([[<matplotlib.axes._subplots.AxesSubplot object at 0x0000020597C46780>]],\n",
       "      dtype=object)"
      ]
     },
     "execution_count": 53,
     "metadata": {},
     "output_type": "execute_result"
    },
    {
     "data": {
      "image/png": "[encoded data removed]",
      "text/plain": [
       "<Figure size 864x864 with 1 Axes>"
      ]
     },
     "metadata": {
      "needs_background": "light"
     },
     "output_type": "display_data"
    }
   ],
   "source": [
    "info_per_reviewed_listings.hist(column='review_count', bins=100,figsize=(12,12))"
   ]
  },
  {
   "cell_type": "code",
   "execution_count": 54,
   "metadata": {},
   "outputs": [
    {
     "data": {
      "text/plain": [
       "array([[<matplotlib.axes._subplots.AxesSubplot object at 0x0000020597E4B1D0>]],\n",
       "      dtype=object)"
      ]
     },
     "execution_count": 54,
     "metadata": {},
     "output_type": "execute_result"
    },
    {
     "data": {
      "image/png": "[encoded data removed]",
      "text/plain": [
       "<Figure size 864x864 with 1 Axes>"
      ]
     },
     "metadata": {
      "needs_background": "light"
     },
     "output_type": "display_data"
    }
   ],
   "source": [
    "info_per_reviewed_listings.hist(column='reviews_per_year', bins=100,figsize=(12,12))"
   ]
  },
  {
   "cell_type": "code",
   "execution_count": 59,
   "metadata": {},
   "outputs": [
    {
     "data": {
      "image/png": "[encoded data removed]",
      "text/plain": [
       "<Figure size 720x720 with 1 Axes>"
      ]
     },
     "metadata": {
      "needs_background": "light"
     },
     "output_type": "display_data"
    }
   ],
   "source": [
    "x = info_per_reviewed_listings['review_count']\n",
    "y = info_per_reviewed_listings['reviews_per_year']\n",
    "\n",
    "plt.figure(figsize=(10,10))\n",
    "plt.scatter(x, y, s=100, facecolors='none', edgecolors='k')\n",
    "plt.title(\"Total review count / reviews per year\")\n",
    "plt.yticks([],[])\n",
    "plt.xlabel(\"Total review count\")\n",
    "plt.ylabel(\"Reviews per year\")\n",
    "\n",
    "plt.show()"
   ]
  },
  {
   "cell_type": "markdown",
   "metadata": {},
   "source": [
    "I don't know how to interpret this scatter plot. Like, I don't get it.\n",
    "\n",
    "You should know this by now, but I'll repeat: Points on the mid-lower right are listings with many total reviews, but are reviewed fairly infrequently (i.e., the long-runners). Points on the upper left corner are the newest listings with many reviews coming in frequently, but they have few reviews in total comparatively because they've only been active for a single year.\n",
    "\n",
    "What's immediately obvious is that all plot points are results of linear regression. *I don't know why it is so, or why it must necessarily be so, but that's how it is.* Count all the lines and we'll find there a total of 10 linear regressions (the flattest ones to the lower right are fairly faint though).\n",
    "\n",
    "I am guessing that each regression represents how many years a listing has been active. This makes sense, as reviews span from 2009 to 2019, a total of 11 years when inclusive. However, I know there are only 4 reviews from 2009, so it may as well be 10 years only in practice.\n",
    "\n",
    "Think about it this way: Listings at the top left have a high review frequency, but low total number of reviews. In other words, the steepest lienar regression has only been active for a single year. Equally, the flattest linear regressions are barely visible, because very few listings have been on Airbnb from the start in 2009 and still going strong into 2019, so over a decade. But they do exist, and that's wild."
   ]
  },
  {
   "cell_type": "markdown",
   "metadata": {},
   "source": [
    "## Info per reviewer\n",
    "\n",
    "Yeah, it's pretty much the same deal, same process and same programming, but this time I expect very little. Otherwise, we'd have some really frequent visitors living off on Airbnb, and they don't exist... right? *ahem*"
   ]
  },
  {
   "cell_type": "code",
   "execution_count": 60,
   "metadata": {},
   "outputs": [],
   "source": [
    "reviewer_ids = reviews['reviewer_id'].drop_duplicates().reset_index(drop = True)"
   ]
  },
  {
   "cell_type": "code",
   "execution_count": 61,
   "metadata": {},
   "outputs": [],
   "source": [
    "df = reviews.loc[:,['reviewer_id','date']]"
   ]
  },
  {
   "cell_type": "code",
   "execution_count": 63,
   "metadata": {},
   "outputs": [],
   "source": [
    "count = []\n",
    "earliestYear = []\n",
    "latestYear = []\n",
    "\n",
    "for i in range(0,reviewer_ids.count()):\n",
    "    r = df[df.reviewer_id == reviewer_ids[i]]\n",
    "    count.append(r.count()[0])\n",
    "    earliestYear.append(r.date.min())\n",
    "    latestYear.append(r.date.max())"
   ]
  },
  {
   "cell_type": "code",
   "execution_count": 64,
   "metadata": {},
   "outputs": [],
   "source": [
    "reviewers_info = pd.DataFrame({'reviewer_id': reviewer_ids,\n",
    "                               'reviews_done': count,\n",
    "                               'earliestYear': earliestYear,\n",
    "                               'latestYear': latestYear})"
   ]
  },
  {
   "cell_type": "code",
   "execution_count": 70,
   "metadata": {},
   "outputs": [
    {
     "data": {
      "text/html": [
       "<div>\n",
       "<style scoped>\n",
       "    .dataframe tbody tr th:only-of-type {\n",
       "        vertical-align: middle;\n",
       "    }\n",
       "\n",
       "    .dataframe tbody tr th {\n",
       "        vertical-align: top;\n",
       "    }\n",
       "\n",
       "    .dataframe thead th {\n",
       "        text-align: right;\n",
       "    }\n",
       "</style>\n",
       "<table border=\"1\" class=\"dataframe\">\n",
       "  <thead>\n",
       "    <tr style=\"text-align: right;\">\n",
       "      <th></th>\n",
       "      <th>reviewer_id</th>\n",
       "      <th>reviews_done</th>\n",
       "      <th>earliestYear</th>\n",
       "      <th>latestYear</th>\n",
       "    </tr>\n",
       "  </thead>\n",
       "  <tbody>\n",
       "    <tr>\n",
       "      <th>48775</th>\n",
       "      <td>6604623</td>\n",
       "      <td>17</td>\n",
       "      <td>2017</td>\n",
       "      <td>2019</td>\n",
       "    </tr>\n",
       "    <tr>\n",
       "      <th>1025</th>\n",
       "      <td>838052</td>\n",
       "      <td>19</td>\n",
       "      <td>2012</td>\n",
       "      <td>2019</td>\n",
       "    </tr>\n",
       "    <tr>\n",
       "      <th>6092</th>\n",
       "      <td>19270652</td>\n",
       "      <td>20</td>\n",
       "      <td>2014</td>\n",
       "      <td>2018</td>\n",
       "    </tr>\n",
       "    <tr>\n",
       "      <th>24365</th>\n",
       "      <td>11604068</td>\n",
       "      <td>20</td>\n",
       "      <td>2016</td>\n",
       "      <td>2018</td>\n",
       "    </tr>\n",
       "    <tr>\n",
       "      <th>93927</th>\n",
       "      <td>114780841</td>\n",
       "      <td>21</td>\n",
       "      <td>2017</td>\n",
       "      <td>2019</td>\n",
       "    </tr>\n",
       "    <tr>\n",
       "      <th>199</th>\n",
       "      <td>4025202</td>\n",
       "      <td>24</td>\n",
       "      <td>2017</td>\n",
       "      <td>2019</td>\n",
       "    </tr>\n",
       "    <tr>\n",
       "      <th>31224</th>\n",
       "      <td>3356928</td>\n",
       "      <td>24</td>\n",
       "      <td>2014</td>\n",
       "      <td>2019</td>\n",
       "    </tr>\n",
       "    <tr>\n",
       "      <th>23066</th>\n",
       "      <td>44061416</td>\n",
       "      <td>25</td>\n",
       "      <td>2015</td>\n",
       "      <td>2017</td>\n",
       "    </tr>\n",
       "    <tr>\n",
       "      <th>14650</th>\n",
       "      <td>36254879</td>\n",
       "      <td>26</td>\n",
       "      <td>2016</td>\n",
       "      <td>2019</td>\n",
       "    </tr>\n",
       "    <tr>\n",
       "      <th>11948</th>\n",
       "      <td>47082496</td>\n",
       "      <td>32</td>\n",
       "      <td>2015</td>\n",
       "      <td>2019</td>\n",
       "    </tr>\n",
       "  </tbody>\n",
       "</table>\n",
       "</div>"
      ],
      "text/plain": [
       "       reviewer_id  reviews_done  earliestYear  latestYear\n",
       "48775      6604623            17          2017        2019\n",
       "1025        838052            19          2012        2019\n",
       "6092      19270652            20          2014        2018\n",
       "24365     11604068            20          2016        2018\n",
       "93927    114780841            21          2017        2019\n",
       "199        4025202            24          2017        2019\n",
       "31224      3356928            24          2014        2019\n",
       "23066     44061416            25          2015        2017\n",
       "14650     36254879            26          2016        2019\n",
       "11948     47082496            32          2015        2019"
      ]
     },
     "execution_count": 70,
     "metadata": {},
     "output_type": "execute_result"
    }
   ],
   "source": [
    "reviewers_info.sort_values('reviews_done').tail(10)"
   ]
  },
  {
   "cell_type": "markdown",
   "metadata": {},
   "source": [
    "As you can tell, I expected the vast majority of people to only do one or two reviews. But let's have a look."
   ]
  },
  {
   "cell_type": "code",
   "execution_count": 71,
   "metadata": {},
   "outputs": [
    {
     "data": {
      "text/plain": [
       "array([[<matplotlib.axes._subplots.AxesSubplot object at 0x0000020597FCD278>]],\n",
       "      dtype=object)"
      ]
     },
     "execution_count": 71,
     "metadata": {},
     "output_type": "execute_result"
    },
    {
     "data": {
      "image/png": "[encoded data removed]",
      "text/plain": [
       "<Figure size 864x864 with 1 Axes>"
      ]
     },
     "metadata": {
      "needs_background": "light"
     },
     "output_type": "display_data"
    }
   ],
   "source": [
    "reviewers_info.hist(column='reviews_done', bins=100,figsize=(12,12))"
   ]
  },
  {
   "cell_type": "markdown",
   "metadata": {},
   "source": [
    "Needless to say, the vast majority of reviewers only visited Copenhagen once. I'm assuming they're not using multiple accounts and all that jazz. Now, I wonder - what are the percentages?"
   ]
  },
  {
   "cell_type": "code",
   "execution_count": 147,
   "metadata": {},
   "outputs": [
    {
     "data": {
      "text/plain": [
       "315030"
      ]
     },
     "execution_count": 147,
     "metadata": {},
     "output_type": "execute_result"
    }
   ],
   "source": [
    "reviewers_info.count()[0]"
   ]
  },
  {
   "cell_type": "code",
   "execution_count": 146,
   "metadata": {},
   "outputs": [
    {
     "data": {
      "text/plain": [
       "1     297124\n",
       "2      14665\n",
       "3       2079\n",
       "4        605\n",
       "5        240\n",
       "6        113\n",
       "7         64\n",
       "8         32\n",
       "9         32\n",
       "10        23\n",
       "12        15\n",
       "11         9\n",
       "13         8\n",
       "14         5\n",
       "15         3\n",
       "16         3\n",
       "20         2\n",
       "24         2\n",
       "26         1\n",
       "17         1\n",
       "19         1\n",
       "21         1\n",
       "25         1\n",
       "32         1\n",
       "Name: reviews_done, dtype: int64"
      ]
     },
     "execution_count": 146,
     "metadata": {},
     "output_type": "execute_result"
    }
   ],
   "source": [
    "reviewers_info.reviews_done.value_counts()"
   ]
  },
  {
   "cell_type": "code",
   "execution_count": 148,
   "metadata": {},
   "outputs": [
    {
     "data": {
      "text/plain": [
       "94.31609687966225"
      ]
     },
     "execution_count": 148,
     "metadata": {},
     "output_type": "execute_result"
    }
   ],
   "source": [
    "297124/315030 * 100"
   ]
  },
  {
   "cell_type": "markdown",
   "metadata": {},
   "source": [
    "So, less than 6% review twice."
   ]
  },
  {
   "cell_type": "code",
   "execution_count": 75,
   "metadata": {},
   "outputs": [
    {
     "data": {
      "text/plain": [
       "array([[<matplotlib.axes._subplots.AxesSubplot object at 0x00000205A24D9438>]],\n",
       "      dtype=object)"
      ]
     },
     "execution_count": 75,
     "metadata": {},
     "output_type": "execute_result"
    },
    {
     "data": {
      "image/png": "[encoded data removed]",
      "text/plain": [
       "<Figure size 864x864 with 1 Axes>"
      ]
     },
     "metadata": {
      "needs_background": "light"
     },
     "output_type": "display_data"
    }
   ],
   "source": [
    "# And what's the distribution for those than left more than 5 reviews?\n",
    "reviewers_info[reviewers_info.reviews_done > 5].hist(column='reviews_done', bins=100,figsize=(12,12))"
   ]
  },
  {
   "cell_type": "markdown",
   "metadata": {},
   "source": [
    "Let's have a look at the top reviewers..."
   ]
  },
  {
   "cell_type": "code",
   "execution_count": 76,
   "metadata": {
    "scrolled": false
   },
   "outputs": [
    {
     "data": {
      "text/html": [
       "<div>\n",
       "<style scoped>\n",
       "    .dataframe tbody tr th:only-of-type {\n",
       "        vertical-align: middle;\n",
       "    }\n",
       "\n",
       "    .dataframe tbody tr th {\n",
       "        vertical-align: top;\n",
       "    }\n",
       "\n",
       "    .dataframe thead th {\n",
       "        text-align: right;\n",
       "    }\n",
       "</style>\n",
       "<table border=\"1\" class=\"dataframe\">\n",
       "  <thead>\n",
       "    <tr style=\"text-align: right;\">\n",
       "      <th></th>\n",
       "      <th>listing_id</th>\n",
       "      <th>id</th>\n",
       "      <th>date</th>\n",
       "      <th>reviewer_id</th>\n",
       "      <th>reviewer_name</th>\n",
       "      <th>comments</th>\n",
       "    </tr>\n",
       "  </thead>\n",
       "  <tbody>\n",
       "    <tr>\n",
       "      <th>12110</th>\n",
       "      <td>537471</td>\n",
       "      <td>289916084</td>\n",
       "      <td>2018</td>\n",
       "      <td>47082496</td>\n",
       "      <td>Thomas</td>\n",
       "      <td>Truly great beds. Very central. Fast communica...</td>\n",
       "    </tr>\n",
       "    <tr>\n",
       "      <th>53095</th>\n",
       "      <td>2200398</td>\n",
       "      <td>132341128</td>\n",
       "      <td>2017</td>\n",
       "      <td>47082496</td>\n",
       "      <td>Thomas</td>\n",
       "      <td>Super communication and service\\nminded host. ...</td>\n",
       "    </tr>\n",
       "    <tr>\n",
       "      <th>102834</th>\n",
       "      <td>5019399</td>\n",
       "      <td>51683661</td>\n",
       "      <td>2015</td>\n",
       "      <td>47082496</td>\n",
       "      <td>Thomas</td>\n",
       "      <td>I only stayed for one night, and I even though...</td>\n",
       "    </tr>\n",
       "    <tr>\n",
       "      <th>102851</th>\n",
       "      <td>5019399</td>\n",
       "      <td>68942097</td>\n",
       "      <td>2016</td>\n",
       "      <td>47082496</td>\n",
       "      <td>Thomas</td>\n",
       "      <td>This is the second time I stayed with Jens Jak...</td>\n",
       "    </tr>\n",
       "    <tr>\n",
       "      <th>102861</th>\n",
       "      <td>5019399</td>\n",
       "      <td>74087614</td>\n",
       "      <td>2016</td>\n",
       "      <td>47082496</td>\n",
       "      <td>Thomas</td>\n",
       "      <td>Third time I stayed here. That kind of says it...</td>\n",
       "    </tr>\n",
       "    <tr>\n",
       "      <th>102872</th>\n",
       "      <td>5019399</td>\n",
       "      <td>79083930</td>\n",
       "      <td>2016</td>\n",
       "      <td>47082496</td>\n",
       "      <td>Thomas</td>\n",
       "      <td>A pleasure as always.</td>\n",
       "    </tr>\n",
       "    <tr>\n",
       "      <th>102891</th>\n",
       "      <td>5019399</td>\n",
       "      <td>98896107</td>\n",
       "      <td>2016</td>\n",
       "      <td>47082496</td>\n",
       "      <td>Thomas</td>\n",
       "      <td>As always Jens Jakob is a great host.</td>\n",
       "    </tr>\n",
       "    <tr>\n",
       "      <th>102905</th>\n",
       "      <td>5019399</td>\n",
       "      <td>104707011</td>\n",
       "      <td>2016</td>\n",
       "      <td>47082496</td>\n",
       "      <td>Thomas</td>\n",
       "      <td>Super. I stay here everytime I'm in Copenhagen.</td>\n",
       "    </tr>\n",
       "    <tr>\n",
       "      <th>102915</th>\n",
       "      <td>5019399</td>\n",
       "      <td>110417230</td>\n",
       "      <td>2016</td>\n",
       "      <td>47082496</td>\n",
       "      <td>Thomas</td>\n",
       "      <td>Stayed there many times. Jakob is a super host.</td>\n",
       "    </tr>\n",
       "    <tr>\n",
       "      <th>102929</th>\n",
       "      <td>5019399</td>\n",
       "      <td>151179614</td>\n",
       "      <td>2017</td>\n",
       "      <td>47082496</td>\n",
       "      <td>Thomas</td>\n",
       "      <td>I've stayed here many times. Always a pleasure...</td>\n",
       "    </tr>\n",
       "    <tr>\n",
       "      <th>102939</th>\n",
       "      <td>5019399</td>\n",
       "      <td>160987189</td>\n",
       "      <td>2017</td>\n",
       "      <td>47082496</td>\n",
       "      <td>Thomas</td>\n",
       "      <td>Always a pleasure to stay with Jens Jakob.</td>\n",
       "    </tr>\n",
       "    <tr>\n",
       "      <th>102943</th>\n",
       "      <td>5019399</td>\n",
       "      <td>164132382</td>\n",
       "      <td>2017</td>\n",
       "      <td>47082496</td>\n",
       "      <td>Thomas</td>\n",
       "      <td>5 star host. I stay here every time I go to Co...</td>\n",
       "    </tr>\n",
       "    <tr>\n",
       "      <th>102944</th>\n",
       "      <td>5019399</td>\n",
       "      <td>164445316</td>\n",
       "      <td>2017</td>\n",
       "      <td>47082496</td>\n",
       "      <td>Thomas</td>\n",
       "      <td>Always a pleasure. Very central. Great bathroo...</td>\n",
       "    </tr>\n",
       "    <tr>\n",
       "      <th>102954</th>\n",
       "      <td>5019399</td>\n",
       "      <td>189293496</td>\n",
       "      <td>2017</td>\n",
       "      <td>47082496</td>\n",
       "      <td>Thomas</td>\n",
       "      <td>5 star host. I keep comming back :)</td>\n",
       "    </tr>\n",
       "    <tr>\n",
       "      <th>102956</th>\n",
       "      <td>5019399</td>\n",
       "      <td>193371783</td>\n",
       "      <td>2017</td>\n",
       "      <td>47082496</td>\n",
       "      <td>Thomas</td>\n",
       "      <td>Love staying here. I keep comming back.</td>\n",
       "    </tr>\n",
       "    <tr>\n",
       "      <th>102958</th>\n",
       "      <td>5019399</td>\n",
       "      <td>197620084</td>\n",
       "      <td>2017</td>\n",
       "      <td>47082496</td>\n",
       "      <td>Thomas</td>\n",
       "      <td>5 star location!</td>\n",
       "    </tr>\n",
       "    <tr>\n",
       "      <th>102959</th>\n",
       "      <td>5019399</td>\n",
       "      <td>200426886</td>\n",
       "      <td>2017</td>\n",
       "      <td>47082496</td>\n",
       "      <td>Thomas</td>\n",
       "      <td>Great stay as always.</td>\n",
       "    </tr>\n",
       "    <tr>\n",
       "      <th>102960</th>\n",
       "      <td>5019399</td>\n",
       "      <td>206396471</td>\n",
       "      <td>2017</td>\n",
       "      <td>47082496</td>\n",
       "      <td>Thomas</td>\n",
       "      <td>Great host. If you like being near everything,...</td>\n",
       "    </tr>\n",
       "    <tr>\n",
       "      <th>102962</th>\n",
       "      <td>5019399</td>\n",
       "      <td>208787206</td>\n",
       "      <td>2017</td>\n",
       "      <td>47082496</td>\n",
       "      <td>Thomas</td>\n",
       "      <td>Perfect location.</td>\n",
       "    </tr>\n",
       "    <tr>\n",
       "      <th>102964</th>\n",
       "      <td>5019399</td>\n",
       "      <td>217452366</td>\n",
       "      <td>2017</td>\n",
       "      <td>47082496</td>\n",
       "      <td>Thomas</td>\n",
       "      <td>5 stars location.</td>\n",
       "    </tr>\n",
       "    <tr>\n",
       "      <th>102965</th>\n",
       "      <td>5019399</td>\n",
       "      <td>220214331</td>\n",
       "      <td>2017</td>\n",
       "      <td>47082496</td>\n",
       "      <td>Thomas</td>\n",
       "      <td>Much recomended.</td>\n",
       "    </tr>\n",
       "    <tr>\n",
       "      <th>102966</th>\n",
       "      <td>5019399</td>\n",
       "      <td>243487045</td>\n",
       "      <td>2018</td>\n",
       "      <td>47082496</td>\n",
       "      <td>Thomas</td>\n",
       "      <td>Great host, and very central.</td>\n",
       "    </tr>\n",
       "    <tr>\n",
       "      <th>102978</th>\n",
       "      <td>5019399</td>\n",
       "      <td>289860427</td>\n",
       "      <td>2018</td>\n",
       "      <td>47082496</td>\n",
       "      <td>Thomas</td>\n",
       "      <td>Only have good things to say. Much recomended.</td>\n",
       "    </tr>\n",
       "    <tr>\n",
       "      <th>102986</th>\n",
       "      <td>5019399</td>\n",
       "      <td>340506054</td>\n",
       "      <td>2018</td>\n",
       "      <td>47082496</td>\n",
       "      <td>Thomas</td>\n",
       "      <td>5 star host.</td>\n",
       "    </tr>\n",
       "    <tr>\n",
       "      <th>102989</th>\n",
       "      <td>5019399</td>\n",
       "      <td>346062788</td>\n",
       "      <td>2018</td>\n",
       "      <td>47082496</td>\n",
       "      <td>Thomas</td>\n",
       "      <td>Five stars as always</td>\n",
       "    </tr>\n",
       "    <tr>\n",
       "      <th>102990</th>\n",
       "      <td>5019399</td>\n",
       "      <td>349940066</td>\n",
       "      <td>2018</td>\n",
       "      <td>47082496</td>\n",
       "      <td>Thomas</td>\n",
       "      <td>Very central and cool place.</td>\n",
       "    </tr>\n",
       "    <tr>\n",
       "      <th>102991</th>\n",
       "      <td>5019399</td>\n",
       "      <td>369322358</td>\n",
       "      <td>2019</td>\n",
       "      <td>47082496</td>\n",
       "      <td>Thomas</td>\n",
       "      <td>5 stars</td>\n",
       "    </tr>\n",
       "    <tr>\n",
       "      <th>102992</th>\n",
       "      <td>5019399</td>\n",
       "      <td>404232846</td>\n",
       "      <td>2019</td>\n",
       "      <td>47082496</td>\n",
       "      <td>Thomas</td>\n",
       "      <td>5 Stars</td>\n",
       "    </tr>\n",
       "    <tr>\n",
       "      <th>102993</th>\n",
       "      <td>5019399</td>\n",
       "      <td>407148443</td>\n",
       "      <td>2019</td>\n",
       "      <td>47082496</td>\n",
       "      <td>Thomas</td>\n",
       "      <td>Fantastic place.</td>\n",
       "    </tr>\n",
       "    <tr>\n",
       "      <th>202406</th>\n",
       "      <td>13373233</td>\n",
       "      <td>154383926</td>\n",
       "      <td>2017</td>\n",
       "      <td>47082496</td>\n",
       "      <td>Thomas</td>\n",
       "      <td>I had a nice and quick stay at Hans Christians...</td>\n",
       "    </tr>\n",
       "    <tr>\n",
       "      <th>258948</th>\n",
       "      <td>18190643</td>\n",
       "      <td>180356955</td>\n",
       "      <td>2017</td>\n",
       "      <td>47082496</td>\n",
       "      <td>Thomas</td>\n",
       "      <td>Toby, is great fellow, and easy to talk with. ...</td>\n",
       "    </tr>\n",
       "    <tr>\n",
       "      <th>325481</th>\n",
       "      <td>26170069</td>\n",
       "      <td>286474689</td>\n",
       "      <td>2018</td>\n",
       "      <td>47082496</td>\n",
       "      <td>Thomas</td>\n",
       "      <td>I stayed here with my teenage son. With two do...</td>\n",
       "    </tr>\n",
       "  </tbody>\n",
       "</table>\n",
       "</div>"
      ],
      "text/plain": [
       "        listing_id         id  date  reviewer_id reviewer_name  \\\n",
       "12110       537471  289916084  2018     47082496        Thomas   \n",
       "53095      2200398  132341128  2017     47082496        Thomas   \n",
       "102834     5019399   51683661  2015     47082496        Thomas   \n",
       "102851     5019399   68942097  2016     47082496        Thomas   \n",
       "102861     5019399   74087614  2016     47082496        Thomas   \n",
       "102872     5019399   79083930  2016     47082496        Thomas   \n",
       "102891     5019399   98896107  2016     47082496        Thomas   \n",
       "102905     5019399  104707011  2016     47082496        Thomas   \n",
       "102915     5019399  110417230  2016     47082496        Thomas   \n",
       "102929     5019399  151179614  2017     47082496        Thomas   \n",
       "102939     5019399  160987189  2017     47082496        Thomas   \n",
       "102943     5019399  164132382  2017     47082496        Thomas   \n",
       "102944     5019399  164445316  2017     47082496        Thomas   \n",
       "102954     5019399  189293496  2017     47082496        Thomas   \n",
       "102956     5019399  193371783  2017     47082496        Thomas   \n",
       "102958     5019399  197620084  2017     47082496        Thomas   \n",
       "102959     5019399  200426886  2017     47082496        Thomas   \n",
       "102960     5019399  206396471  2017     47082496        Thomas   \n",
       "102962     5019399  208787206  2017     47082496        Thomas   \n",
       "102964     5019399  217452366  2017     47082496        Thomas   \n",
       "102965     5019399  220214331  2017     47082496        Thomas   \n",
       "102966     5019399  243487045  2018     47082496        Thomas   \n",
       "102978     5019399  289860427  2018     47082496        Thomas   \n",
       "102986     5019399  340506054  2018     47082496        Thomas   \n",
       "102989     5019399  346062788  2018     47082496        Thomas   \n",
       "102990     5019399  349940066  2018     47082496        Thomas   \n",
       "102991     5019399  369322358  2019     47082496        Thomas   \n",
       "102992     5019399  404232846  2019     47082496        Thomas   \n",
       "102993     5019399  407148443  2019     47082496        Thomas   \n",
       "202406    13373233  154383926  2017     47082496        Thomas   \n",
       "258948    18190643  180356955  2017     47082496        Thomas   \n",
       "325481    26170069  286474689  2018     47082496        Thomas   \n",
       "\n",
       "                                                 comments  \n",
       "12110   Truly great beds. Very central. Fast communica...  \n",
       "53095   Super communication and service\\nminded host. ...  \n",
       "102834  I only stayed for one night, and I even though...  \n",
       "102851  This is the second time I stayed with Jens Jak...  \n",
       "102861  Third time I stayed here. That kind of says it...  \n",
       "102872                              A pleasure as always.  \n",
       "102891              As always Jens Jakob is a great host.  \n",
       "102905    Super. I stay here everytime I'm in Copenhagen.  \n",
       "102915    Stayed there many times. Jakob is a super host.  \n",
       "102929  I've stayed here many times. Always a pleasure...  \n",
       "102939         Always a pleasure to stay with Jens Jakob.  \n",
       "102943  5 star host. I stay here every time I go to Co...  \n",
       "102944  Always a pleasure. Very central. Great bathroo...  \n",
       "102954                5 star host. I keep comming back :)  \n",
       "102956            Love staying here. I keep comming back.  \n",
       "102958                                   5 star location!  \n",
       "102959                              Great stay as always.  \n",
       "102960  Great host. If you like being near everything,...  \n",
       "102962                                  Perfect location.  \n",
       "102964                                  5 stars location.  \n",
       "102965                                   Much recomended.  \n",
       "102966                      Great host, and very central.  \n",
       "102978     Only have good things to say. Much recomended.  \n",
       "102986                                       5 star host.  \n",
       "102989                               Five stars as always  \n",
       "102990                       Very central and cool place.  \n",
       "102991                                            5 stars  \n",
       "102992                                            5 Stars  \n",
       "102993                                   Fantastic place.  \n",
       "202406  I had a nice and quick stay at Hans Christians...  \n",
       "258948  Toby, is great fellow, and easy to talk with. ...  \n",
       "325481  I stayed here with my teenage son. With two do...  "
      ]
     },
     "execution_count": 76,
     "metadata": {},
     "output_type": "execute_result"
    }
   ],
   "source": [
    "reviews[reviews.reviewer_id == 47082496]"
   ]
  },
  {
   "cell_type": "markdown",
   "metadata": {},
   "source": [
    "Turns out Thomas does visit Copenhagen a lot, but he's reviewed the same listing 27 times. I assume that the Airbnb service demands he reviews the place every time he visits - similar to Ûber. And as always, the reviews do get shorter when you're forced to review the same place over and over and over again."
   ]
  },
  {
   "cell_type": "code",
   "execution_count": 77,
   "metadata": {
    "scrolled": false
   },
   "outputs": [
    {
     "data": {
      "text/html": [
       "<div>\n",
       "<style scoped>\n",
       "    .dataframe tbody tr th:only-of-type {\n",
       "        vertical-align: middle;\n",
       "    }\n",
       "\n",
       "    .dataframe tbody tr th {\n",
       "        vertical-align: top;\n",
       "    }\n",
       "\n",
       "    .dataframe thead th {\n",
       "        text-align: right;\n",
       "    }\n",
       "</style>\n",
       "<table border=\"1\" class=\"dataframe\">\n",
       "  <thead>\n",
       "    <tr style=\"text-align: right;\">\n",
       "      <th></th>\n",
       "      <th>listing_id</th>\n",
       "      <th>id</th>\n",
       "      <th>date</th>\n",
       "      <th>reviewer_id</th>\n",
       "      <th>reviewer_name</th>\n",
       "      <th>comments</th>\n",
       "    </tr>\n",
       "  </thead>\n",
       "  <tbody>\n",
       "    <tr>\n",
       "      <th>14856</th>\n",
       "      <td>623404</td>\n",
       "      <td>162750531</td>\n",
       "      <td>2017</td>\n",
       "      <td>36254879</td>\n",
       "      <td>Asma</td>\n",
       "      <td>I ha a great stay at Irismar's place. The room...</td>\n",
       "    </tr>\n",
       "    <tr>\n",
       "      <th>14864</th>\n",
       "      <td>623404</td>\n",
       "      <td>188920156</td>\n",
       "      <td>2017</td>\n",
       "      <td>36254879</td>\n",
       "      <td>Asma</td>\n",
       "      <td>It was my second time at Irismar place, and I ...</td>\n",
       "    </tr>\n",
       "    <tr>\n",
       "      <th>14868</th>\n",
       "      <td>623404</td>\n",
       "      <td>200633943</td>\n",
       "      <td>2017</td>\n",
       "      <td>36254879</td>\n",
       "      <td>Asma</td>\n",
       "      <td>Irismar is a fantastic and very nice host:) It...</td>\n",
       "    </tr>\n",
       "    <tr>\n",
       "      <th>14870</th>\n",
       "      <td>623404</td>\n",
       "      <td>214229055</td>\n",
       "      <td>2017</td>\n",
       "      <td>36254879</td>\n",
       "      <td>Asma</td>\n",
       "      <td>Irismar is the best host ever :) the apartment...</td>\n",
       "    </tr>\n",
       "    <tr>\n",
       "      <th>14871</th>\n",
       "      <td>623404</td>\n",
       "      <td>228858860</td>\n",
       "      <td>2018</td>\n",
       "      <td>36254879</td>\n",
       "      <td>Asma</td>\n",
       "      <td>Irismar is a great host:) everything was perfe...</td>\n",
       "    </tr>\n",
       "    <tr>\n",
       "      <th>14873</th>\n",
       "      <td>623404</td>\n",
       "      <td>232215082</td>\n",
       "      <td>2018</td>\n",
       "      <td>36254879</td>\n",
       "      <td>Asma</td>\n",
       "      <td>I enjoyed my stay at Irismar's place. Very nic...</td>\n",
       "    </tr>\n",
       "    <tr>\n",
       "      <th>14874</th>\n",
       "      <td>623404</td>\n",
       "      <td>234273605</td>\n",
       "      <td>2018</td>\n",
       "      <td>36254879</td>\n",
       "      <td>Asma</td>\n",
       "      <td>Superbe adresse:) L'appartement est genial, et...</td>\n",
       "    </tr>\n",
       "    <tr>\n",
       "      <th>14876</th>\n",
       "      <td>623404</td>\n",
       "      <td>239837800</td>\n",
       "      <td>2018</td>\n",
       "      <td>36254879</td>\n",
       "      <td>Asma</td>\n",
       "      <td>C'est toujours un plaisir de loger chez Irisma...</td>\n",
       "    </tr>\n",
       "    <tr>\n",
       "      <th>14877</th>\n",
       "      <td>623404</td>\n",
       "      <td>243239094</td>\n",
       "      <td>2018</td>\n",
       "      <td>36254879</td>\n",
       "      <td>Asma</td>\n",
       "      <td>Merci Irismar pour ton hospitalité. Je recomma...</td>\n",
       "    </tr>\n",
       "    <tr>\n",
       "      <th>14880</th>\n",
       "      <td>623404</td>\n",
       "      <td>250784839</td>\n",
       "      <td>2018</td>\n",
       "      <td>36254879</td>\n",
       "      <td>Asma</td>\n",
       "      <td>Simply perfect :) I highly recommend</td>\n",
       "    </tr>\n",
       "    <tr>\n",
       "      <th>14883</th>\n",
       "      <td>623404</td>\n",
       "      <td>257766541</td>\n",
       "      <td>2018</td>\n",
       "      <td>36254879</td>\n",
       "      <td>Asma</td>\n",
       "      <td>I felt home. Irismar is a great host, she made...</td>\n",
       "    </tr>\n",
       "    <tr>\n",
       "      <th>14895</th>\n",
       "      <td>623404</td>\n",
       "      <td>409260232</td>\n",
       "      <td>2019</td>\n",
       "      <td>36254879</td>\n",
       "      <td>Asma</td>\n",
       "      <td>Irismar is a fantastic host, nice , thoghtful ...</td>\n",
       "    </tr>\n",
       "    <tr>\n",
       "      <th>113911</th>\n",
       "      <td>5824541</td>\n",
       "      <td>100245033</td>\n",
       "      <td>2016</td>\n",
       "      <td>36254879</td>\n",
       "      <td>Asma</td>\n",
       "      <td>I had a nice stay at Nina'a apartment. Nina is...</td>\n",
       "    </tr>\n",
       "    <tr>\n",
       "      <th>171555</th>\n",
       "      <td>10117888</td>\n",
       "      <td>64538077</td>\n",
       "      <td>2016</td>\n",
       "      <td>36254879</td>\n",
       "      <td>Asma</td>\n",
       "      <td>I had a great stay at Sanne's place. Sanne is ...</td>\n",
       "    </tr>\n",
       "    <tr>\n",
       "      <th>171557</th>\n",
       "      <td>10117888</td>\n",
       "      <td>69022298</td>\n",
       "      <td>2016</td>\n",
       "      <td>36254879</td>\n",
       "      <td>Asma</td>\n",
       "      <td>As always, it was a great pleasure to stay at ...</td>\n",
       "    </tr>\n",
       "    <tr>\n",
       "      <th>171559</th>\n",
       "      <td>10117888</td>\n",
       "      <td>71750533</td>\n",
       "      <td>2016</td>\n",
       "      <td>36254879</td>\n",
       "      <td>Asma</td>\n",
       "      <td>As usual, Sanne was nice and welcoming,  I fel...</td>\n",
       "    </tr>\n",
       "    <tr>\n",
       "      <th>174124</th>\n",
       "      <td>10481050</td>\n",
       "      <td>62926044</td>\n",
       "      <td>2016</td>\n",
       "      <td>36254879</td>\n",
       "      <td>Asma</td>\n",
       "      <td>I had a great time at Catharina's apartment:) ...</td>\n",
       "    </tr>\n",
       "    <tr>\n",
       "      <th>210747</th>\n",
       "      <td>13781446</td>\n",
       "      <td>206593697</td>\n",
       "      <td>2017</td>\n",
       "      <td>36254879</td>\n",
       "      <td>Asma</td>\n",
       "      <td>Lise is a very nice host. The communication wi...</td>\n",
       "    </tr>\n",
       "    <tr>\n",
       "      <th>239807</th>\n",
       "      <td>16296788</td>\n",
       "      <td>129885946</td>\n",
       "      <td>2017</td>\n",
       "      <td>36254879</td>\n",
       "      <td>Asma</td>\n",
       "      <td>Very nice experience, calm, clean snd nice apa...</td>\n",
       "    </tr>\n",
       "    <tr>\n",
       "      <th>239809</th>\n",
       "      <td>16296788</td>\n",
       "      <td>130775513</td>\n",
       "      <td>2017</td>\n",
       "      <td>36254879</td>\n",
       "      <td>Asma</td>\n",
       "      <td>Great place, nice host</td>\n",
       "    </tr>\n",
       "    <tr>\n",
       "      <th>239810</th>\n",
       "      <td>16296788</td>\n",
       "      <td>137575624</td>\n",
       "      <td>2017</td>\n",
       "      <td>36254879</td>\n",
       "      <td>Asma</td>\n",
       "      <td>Perfect</td>\n",
       "    </tr>\n",
       "    <tr>\n",
       "      <th>239811</th>\n",
       "      <td>16296788</td>\n",
       "      <td>139207588</td>\n",
       "      <td>2017</td>\n",
       "      <td>36254879</td>\n",
       "      <td>Asma</td>\n",
       "      <td>I had a great stay at Mette-marie place.  The ...</td>\n",
       "    </tr>\n",
       "    <tr>\n",
       "      <th>239815</th>\n",
       "      <td>16296788</td>\n",
       "      <td>152811787</td>\n",
       "      <td>2017</td>\n",
       "      <td>36254879</td>\n",
       "      <td>Asma</td>\n",
       "      <td>Everything was perfect</td>\n",
       "    </tr>\n",
       "    <tr>\n",
       "      <th>239816</th>\n",
       "      <td>16296788</td>\n",
       "      <td>158568411</td>\n",
       "      <td>2017</td>\n",
       "      <td>36254879</td>\n",
       "      <td>Asma</td>\n",
       "      <td>As usual I really enjoyed my stay at Mettemari...</td>\n",
       "    </tr>\n",
       "    <tr>\n",
       "      <th>263755</th>\n",
       "      <td>18663319</td>\n",
       "      <td>279601796</td>\n",
       "      <td>2018</td>\n",
       "      <td>36254879</td>\n",
       "      <td>Asma</td>\n",
       "      <td>Suzana is a very nice and welcoming host. The ...</td>\n",
       "    </tr>\n",
       "    <tr>\n",
       "      <th>314258</th>\n",
       "      <td>24073200</td>\n",
       "      <td>262877203</td>\n",
       "      <td>2018</td>\n",
       "      <td>36254879</td>\n",
       "      <td>Asma</td>\n",
       "      <td>Nice and bright room with a nice view. Communi...</td>\n",
       "    </tr>\n",
       "  </tbody>\n",
       "</table>\n",
       "</div>"
      ],
      "text/plain": [
       "        listing_id         id  date  reviewer_id reviewer_name  \\\n",
       "14856       623404  162750531  2017     36254879          Asma   \n",
       "14864       623404  188920156  2017     36254879          Asma   \n",
       "14868       623404  200633943  2017     36254879          Asma   \n",
       "14870       623404  214229055  2017     36254879          Asma   \n",
       "14871       623404  228858860  2018     36254879          Asma   \n",
       "14873       623404  232215082  2018     36254879          Asma   \n",
       "14874       623404  234273605  2018     36254879          Asma   \n",
       "14876       623404  239837800  2018     36254879          Asma   \n",
       "14877       623404  243239094  2018     36254879          Asma   \n",
       "14880       623404  250784839  2018     36254879          Asma   \n",
       "14883       623404  257766541  2018     36254879          Asma   \n",
       "14895       623404  409260232  2019     36254879          Asma   \n",
       "113911     5824541  100245033  2016     36254879          Asma   \n",
       "171555    10117888   64538077  2016     36254879          Asma   \n",
       "171557    10117888   69022298  2016     36254879          Asma   \n",
       "171559    10117888   71750533  2016     36254879          Asma   \n",
       "174124    10481050   62926044  2016     36254879          Asma   \n",
       "210747    13781446  206593697  2017     36254879          Asma   \n",
       "239807    16296788  129885946  2017     36254879          Asma   \n",
       "239809    16296788  130775513  2017     36254879          Asma   \n",
       "239810    16296788  137575624  2017     36254879          Asma   \n",
       "239811    16296788  139207588  2017     36254879          Asma   \n",
       "239815    16296788  152811787  2017     36254879          Asma   \n",
       "239816    16296788  158568411  2017     36254879          Asma   \n",
       "263755    18663319  279601796  2018     36254879          Asma   \n",
       "314258    24073200  262877203  2018     36254879          Asma   \n",
       "\n",
       "                                                 comments  \n",
       "14856   I ha a great stay at Irismar's place. The room...  \n",
       "14864   It was my second time at Irismar place, and I ...  \n",
       "14868   Irismar is a fantastic and very nice host:) It...  \n",
       "14870   Irismar is the best host ever :) the apartment...  \n",
       "14871   Irismar is a great host:) everything was perfe...  \n",
       "14873   I enjoyed my stay at Irismar's place. Very nic...  \n",
       "14874   Superbe adresse:) L'appartement est genial, et...  \n",
       "14876   C'est toujours un plaisir de loger chez Irisma...  \n",
       "14877   Merci Irismar pour ton hospitalité. Je recomma...  \n",
       "14880                Simply perfect :) I highly recommend  \n",
       "14883   I felt home. Irismar is a great host, she made...  \n",
       "14895   Irismar is a fantastic host, nice , thoghtful ...  \n",
       "113911  I had a nice stay at Nina'a apartment. Nina is...  \n",
       "171555  I had a great stay at Sanne's place. Sanne is ...  \n",
       "171557  As always, it was a great pleasure to stay at ...  \n",
       "171559  As usual, Sanne was nice and welcoming,  I fel...  \n",
       "174124  I had a great time at Catharina's apartment:) ...  \n",
       "210747  Lise is a very nice host. The communication wi...  \n",
       "239807  Very nice experience, calm, clean snd nice apa...  \n",
       "239809                             Great place, nice host  \n",
       "239810                                            Perfect  \n",
       "239811  I had a great stay at Mette-marie place.  The ...  \n",
       "239815                             Everything was perfect  \n",
       "239816  As usual I really enjoyed my stay at Mettemari...  \n",
       "263755  Suzana is a very nice and welcoming host. The ...  \n",
       "314258  Nice and bright room with a nice view. Communi...  "
      ]
     },
     "execution_count": 77,
     "metadata": {},
     "output_type": "execute_result"
    }
   ],
   "source": [
    "reviews[reviews.reviewer_id == 36254879]"
   ]
  },
  {
   "cell_type": "markdown",
   "metadata": {},
   "source": [
    "A bit more variety, but has stayed at the some places multiple times."
   ]
  },
  {
   "cell_type": "code",
   "execution_count": 79,
   "metadata": {},
   "outputs": [
    {
     "data": {
      "text/plain": [
       "\"I ha a great stay at Irismar's place. The room is clean and nice as well as the apartment. Irismar is a great host shes is nice and very  welcoming. \""
      ]
     },
     "execution_count": 79,
     "metadata": {},
     "output_type": "execute_result"
    }
   ],
   "source": [
    "reviews[reviews.reviewer_id == 36254879].iloc[0,5]."
   ]
  },
  {
   "cell_type": "markdown",
   "metadata": {},
   "source": [
    "So those that do many reviews visit the same place over and over. I know it's a small sample size of only looking at the two top reviewers, but there aren't that many of them to begin with. They're the 6% that return.\n",
    "\n",
    "### For fun: Negative reviews?"
   ]
  },
  {
   "cell_type": "code",
   "execution_count": 87,
   "metadata": {},
   "outputs": [],
   "source": [
    "# Returns first review containing a string. Used to spot bad reviews.\n",
    "def reviewContainsWord(s):\n",
    "    for i in range(0, listing_ids.count()):\n",
    "        if s in reviews.iloc[i,5]:\n",
    "            return reviews.iloc[i,5]"
   ]
  },
  {
   "cell_type": "code",
   "execution_count": 93,
   "metadata": {},
   "outputs": [
    {
     "data": {
      "text/plain": [
       "\"Perfect location right in the heart of the best part of the city. A close walk to everything. Oliver was great in getting us checked in. House was very nice. Nicely equipped, nice room for the 8 of us to gather / eat in.\\r\\nOnly problem is the street noise - there is a comedy club next door with a noisy queue and smokers (need to leave windows closed on that side if smoke bothers you), noisy bar across the street (festivities die down at about 4AM on Friday), and the garbage guys (who make a lot of noise) come at 6AM. Just need to be aware: that's the down-side. Otherwise great place\""
      ]
     },
     "execution_count": 93,
     "metadata": {},
     "output_type": "execute_result"
    }
   ],
   "source": [
    "reviewContainsWord(\"garbage\")"
   ]
  },
  {
   "cell_type": "code",
   "execution_count": 94,
   "metadata": {},
   "outputs": [
    {
     "data": {
      "text/plain": [
       "\"Really charming apartment right in the centre of Copenhagen, with enough space for 12 people. Lovely old building in a quiet courtyard. The kitchen could be slightly better equipped though the basics are there. \\r\\n\\r\\nA deposit was taken from my account the day before our rental period despite being told by Oliver that there would be no deposit, which was a big unexpected problem. Rob was able to sort this out quite quickly, but the rental company were slow to respond to some other emails and didn't provide location details etc until the day before the trip, and only after being prompted. \\r\\n\\r\\nOverall, great apartment but some fairly bad administration problems.\""
      ]
     },
     "execution_count": 94,
     "metadata": {},
     "output_type": "execute_result"
    }
   ],
   "source": [
    "reviewContainsWord(\"bad\")"
   ]
  },
  {
   "cell_type": "code",
   "execution_count": 96,
   "metadata": {},
   "outputs": [
    {
     "data": {
      "text/plain": [
       "\"We would have loved to review the apartment that we actually booked, but are not able to... because we did not end up staying in this apt. We booked this apartment MONTHS in advance because it looked beautiful and would fit our group of 6. TWO days before we were heading to Europe for our trip (a week before our reservation), we received a private message/phone call (not through Air BNB) informing us our apt. would not be available and they had a replacement apt.for us. At that point, we were leaving the country in two days and didn't have the time to find a replacement with such short notice. It was either take this deal or have no where to stay. They did give us around $300 USD for our inconvenience, but that in no way makes up for the difference in the apartment we booked vs. the apartment we ended up with. Even with the $300, I guarantee we paid WELL over the value of this place. We had to arrive near our original apt. to meet the host and then drag out luggage across the city. When we arrived to the apt. there was one of the most terrible smells I've ever experienced coming out of the bathroom. As the time went on, the smell became worse. We contacted the host to mention this smell and never did receive a response. Speaking of bathrooms... the original apartment we booked had 2.5 bathrooms and the place we ended up had ONE toilet (the smelly toilet) for SIX people. Did we have a roof over our heads and a place to stay? Yes. But it was not a pleasant place to call home for our stay and put a very negative cloud over our whole stay in Copenhagen. \""
      ]
     },
     "execution_count": 96,
     "metadata": {},
     "output_type": "execute_result"
    }
   ],
   "source": [
    "reviewContainsWord(\"terrible\")"
   ]
  },
  {
   "cell_type": "code",
   "execution_count": 107,
   "metadata": {},
   "outputs": [
    {
     "data": {
      "text/plain": [
       "\"We arrived at this Copenhagen apartment at the much-appreciated and agreed-upon early arrival of 12:15, at which time we understood that we were going to be able to drop our bags while the apartment was being cleaned. (The previous renter was not out until noon that day.) The building was under construction and was completely wrapped in scaffolding and plastic, making it impossible to recognize it from the exterior pictures provided in the app. After sorting out the location and a slight mix-up in communication with Christian and Carl, we were finally able to get our bags into the apartment at 13:15, which was still earlier than the listed time. Lucky for us it was a warm day and there was a pleasant, sunny little plaza in which we could wait right behind the building. It turned out that by the time we got in, Carl had the space ready. He got us all set up and we were on our way to three days in that truly amazing city. This apartment has great potential and is a good value with its best feature being the location. It is surrounded by restaurants and, of course, the lovely little plaza right behind the building. We could easily walk to all the great city sites: the palace, the cathedral, museums, the Green Light District, the Stroget (shopping) and some of the best restaurants in the city. There are a few improvements needed in the apartment. The apartment could benefit from a good cleaning (especially the bathroom) and a few upgrades to wiring and plumbing. The wiring was a bit loose and shaky and there were not enough free outlets for all three of us to plug in our electronics - and none at all in the bedroom. The smell of sewer gas in the bathroom was worrisome and possibly dangerous, in addition to the lack of an anti-scald valve in the shower. Also the front door locking/unlocking situation is a problem that could be fatal in a fire, as it is difficult and clumsy to get the key to work. A smaller complaint is that the towels are very rough and scratchy, as were the comforter covers and pillowcases in the bedroom. We had a few other issues… The apartment is on the first floor and looks out on the street through inoperable windows, in the living room and bedroom. The first day was very warm so that contributed to the first problem we encountered: the apartment was hot and stuffy and we needed to air it out. The back windows (in the kitchen and dining area) open onto the closed-in garbage/recycling and bike storage area but they did allow for some airflow. The scaffolding and plastic that wrapped the front of the building only slightly blocked our first floor street view but didn't help muffle the construction and street noise. We happened to arrive on a national holiday (a Friday) so the club across the street went into full swing that...\""
      ]
     },
     "execution_count": 107,
     "metadata": {},
     "output_type": "execute_result"
    }
   ],
   "source": [
    "reviewContainsWord(\"dangerous\")"
   ]
  },
  {
   "cell_type": "markdown",
   "metadata": {},
   "source": [
    "I'm really trying to find the spicy reviews, but they just aren't there. Tried a bunch of other words but found no results.\n",
    "\n",
    "I don't know man. People are just too nice on this platform. I was hoping for some straight fire, just flaming and roasting their hosts."
   ]
  },
  {
   "cell_type": "markdown",
   "metadata": {},
   "source": [
    "## Yearly distribution of reviews"
   ]
  },
  {
   "cell_type": "code",
   "execution_count": 118,
   "metadata": {},
   "outputs": [
    {
     "data": {
      "text/plain": [
       "array([[<matplotlib.axes._subplots.AxesSubplot object at 0x000002059A1B8048>]],\n",
       "      dtype=object)"
      ]
     },
     "execution_count": 118,
     "metadata": {},
     "output_type": "execute_result"
    },
    {
     "data": {
      "image/png": "[encoded data removed]",
      "text/plain": [
       "<Figure size 432x288 with 1 Axes>"
      ]
     },
     "metadata": {
      "needs_background": "light"
     },
     "output_type": "display_data"
    }
   ],
   "source": [
    "reviews.hist(column='date', bins=22)"
   ]
  },
  {
   "cell_type": "markdown",
   "metadata": {},
   "source": [
    "I think this showns the development of Airbnb pretty clearly. It looks like Airbnb's business in Copenhagen doubled each year until 2016.\n",
    "\n",
    "As of today's writing in May 2019, the low value for 2019 is because 1) the year isn't over, duh, and 2) our data covers up until 17th of February 2019, so 1½ months.\n",
    "\n",
    "January/February are probably not high season, but if we make a distribution of January's year-to-year development, then perhaps we can compare the growth?"
   ]
  },
  {
   "cell_type": "code",
   "execution_count": 119,
   "metadata": {},
   "outputs": [],
   "source": [
    "reviews = pd.read_csv(\"reviews.csv\")"
   ]
  },
  {
   "cell_type": "code",
   "execution_count": 123,
   "metadata": {},
   "outputs": [
    {
     "data": {
      "text/plain": [
       "0    2009-09\n",
       "1    2009-09\n",
       "2    2009-09\n",
       "3    2009-12\n",
       "4    2010-01\n",
       "Name: date, dtype: object"
      ]
     },
     "execution_count": 123,
     "metadata": {},
     "output_type": "execute_result"
    }
   ],
   "source": [
    "yearMonths = reviews['date'].apply(lambda x: x[0:7])\n",
    "yearMonths.head()"
   ]
  },
  {
   "cell_type": "code",
   "execution_count": 131,
   "metadata": {},
   "outputs": [],
   "source": [
    "l = []\n",
    "for i in range (0, yearMonths.count()):\n",
    "    if (yearMonths[i][5:7] == '01'):\n",
    "        l.append(int(yearMonths[i][0:4]))"
   ]
  },
  {
   "cell_type": "code",
   "execution_count": 133,
   "metadata": {},
   "outputs": [
    {
     "data": {
      "text/plain": [
       "<matplotlib.axes._subplots.AxesSubplot at 0x2058cb98d68>"
      ]
     },
     "execution_count": 133,
     "metadata": {},
     "output_type": "execute_result"
    },
    {
     "data": {
      "image/png": "[encoded data removed]",
      "text/plain": [
       "<Figure size 432x288 with 1 Axes>"
      ]
     },
     "metadata": {
      "needs_background": "light"
     },
     "output_type": "display_data"
    }
   ],
   "source": [
    "l = pd.Series(l)\n",
    "l.hist(bins=22)"
   ]
  },
  {
   "cell_type": "markdown",
   "metadata": {},
   "source": [
    "Would you look at that! Looks like 2019 is gonna be another great year for Airbnb in Copenhagen and the growth ain't slowing down. How much higher 2019 compared to 2018?"
   ]
  },
  {
   "cell_type": "code",
   "execution_count": 134,
   "metadata": {},
   "outputs": [
    {
     "data": {
      "text/plain": [
       "2019    6511\n",
       "2018    4610\n",
       "2017    3947\n",
       "2016    2390\n",
       "2015     846\n",
       "2014     331\n",
       "2013     127\n",
       "2012      35\n",
       "2011       5\n",
       "2010       1\n",
       "dtype: int64"
      ]
     },
     "execution_count": 134,
     "metadata": {},
     "output_type": "execute_result"
    }
   ],
   "source": [
    "l.value_counts()"
   ]
  },
  {
   "cell_type": "code",
   "execution_count": 141,
   "metadata": {},
   "outputs": [
    {
     "data": {
      "text/plain": [
       "16.797567772992146"
      ]
     },
     "execution_count": 141,
     "metadata": {},
     "output_type": "execute_result"
    }
   ],
   "source": [
    "# From 2017 to 2018:\n",
    "(4610-3947) / 3947 * 100"
   ]
  },
  {
   "cell_type": "code",
   "execution_count": 142,
   "metadata": {},
   "outputs": [
    {
     "data": {
      "text/plain": [
       "41.23644251626898"
      ]
     },
     "execution_count": 142,
     "metadata": {},
     "output_type": "execute_result"
    }
   ],
   "source": [
    "# From 2018 to 2019:\n",
    "(6511-4610)/4610 * 100"
   ]
  },
  {
   "cell_type": "markdown",
   "metadata": {},
   "source": [
    "Looks like a 41% growth. Then let's take the yearly distribution of reviews, multiply with the percentage, and predict how many reviews we'll get in 2019 total."
   ]
  },
  {
   "cell_type": "code",
   "execution_count": 137,
   "metadata": {},
   "outputs": [
    {
     "data": {
      "text/plain": [
       "2018-08    17636\n",
       "2017-08    14417\n",
       "2018-07    14111\n",
       "2018-05    13984\n",
       "2018-06    13134\n",
       "2018-09    12726\n",
       "2017-07    11442\n",
       "2017-06    10315\n",
       "2016-08    10187\n",
       "2017-05     9832\n",
       "2017-09     9678\n",
       "2016-07     9324\n",
       "2018-10     8885\n",
       "2018-04     8505\n",
       "2018-12     8029\n",
       "2018-11     7567\n",
       "2016-09     7146\n",
       "2016-05     7071\n",
       "2017-04     6898\n",
       "2017-10     6859\n",
       "2016-06     6526\n",
       "2019-01     6511\n",
       "2016-10     6117\n",
       "2018-03     6062\n",
       "2015-08     5604\n",
       "2017-12     5374\n",
       "2017-11     4963\n",
       "2018-01     4610\n",
       "2017-03     4461\n",
       "2018-02     4304\n",
       "           ...  \n",
       "2012-12      108\n",
       "2013-02       88\n",
       "2012-04       70\n",
       "2011-08       66\n",
       "2011-11       48\n",
       "2011-09       46\n",
       "2012-01       35\n",
       "2012-03       35\n",
       "2011-07       33\n",
       "2011-12       30\n",
       "2011-06       29\n",
       "2012-02       29\n",
       "2011-10       23\n",
       "2011-05       19\n",
       "2011-04       14\n",
       "2010-08       13\n",
       "2010-12        5\n",
       "2010-07        5\n",
       "2010-06        5\n",
       "2011-03        5\n",
       "2011-01        5\n",
       "2010-09        4\n",
       "2011-02        3\n",
       "2009-09        3\n",
       "2010-11        3\n",
       "2010-10        3\n",
       "2010-05        1\n",
       "2010-04        1\n",
       "2009-12        1\n",
       "2010-01        1\n",
       "Name: date, Length: 110, dtype: int64"
      ]
     },
     "execution_count": 137,
     "metadata": {},
     "output_type": "execute_result"
    }
   ],
   "source": [
    "reviews.date.value_counts()"
   ]
  },
  {
   "cell_type": "markdown",
   "metadata": {},
   "source": [
    "Accidentally got the wrong output, but this one's pretty interesting too. Looks like autumn and summer months are most popular. You have to reach down a bit before getting to the first January, which as we already know, is 2019."
   ]
  },
  {
   "cell_type": "code",
   "execution_count": 138,
   "metadata": {},
   "outputs": [],
   "source": [
    "reviews['date'] = reviews['date'].apply(lambda x: int(x[0:4]))"
   ]
  },
  {
   "cell_type": "code",
   "execution_count": 139,
   "metadata": {},
   "outputs": [
    {
     "data": {
      "text/plain": [
       "2018    119553\n",
       "2017     92121\n",
       "2016     66663\n",
       "2015     32706\n",
       "2014     12182\n",
       "2019      9093\n",
       "2013      4802\n",
       "2012      1499\n",
       "2011       321\n",
       "2010        41\n",
       "2009         4\n",
       "Name: date, dtype: int64"
      ]
     },
     "execution_count": 139,
     "metadata": {},
     "output_type": "execute_result"
    }
   ],
   "source": [
    "reviews.date.value_counts()"
   ]
  },
  {
   "cell_type": "code",
   "execution_count": 143,
   "metadata": {},
   "outputs": [
    {
     "data": {
      "text/plain": [
       "29.77822646302146"
      ]
     },
     "execution_count": 143,
     "metadata": {},
     "output_type": "execute_result"
    }
   ],
   "source": [
    "# Just curious, what's the total yearly increase from 2017 to 2018?\n",
    "(119553-92121)/92121 * 100"
   ]
  },
  {
   "cell_type": "markdown",
   "metadata": {},
   "source": [
    "January's review increment between 2017-2018 in percentages is 17%, while the total review increment between 2017-2018 is 30%. The disparity makes sense, as summer and autumn months are high season, as I (accidentally) output earlier. January's increase is slower than the summer/autumn months, and also compared to the entire year."
   ]
  },
  {
   "cell_type": "code",
   "execution_count": 145,
   "metadata": {},
   "outputs": [
    {
     "data": {
      "text/plain": [
       "168569.72999999998"
      ]
     },
     "execution_count": 145,
     "metadata": {},
     "output_type": "execute_result"
    }
   ],
   "source": [
    "119553 * 1.41"
   ]
  },
  {
   "cell_type": "markdown",
   "metadata": {},
   "source": [
    "Still, the 41% increase from 2018-2019 is incredibly high compared to the measly 17% from 2017-2018. And for the whole year, the increase may be even higher than 41%, if the pattern from 2017-2018 repeats. It's a bold guess, since 41% is a lot of growth. So no promises - and I should note, I've only looked at three years total, I haven't compared in between every year.\n",
    "\n",
    "Anyway, if we use 41% increase, the prediction is we'll have about 168.000 reviews total throughout all of 2019, compared to 2018's 120.000 reviews."
   ]
  },
  {
   "cell_type": "markdown",
   "metadata": {},
   "source": [
    "### Exports\n",
    "\n",
    "Oh, they're pretty important too. Let's dump the data frames."
   ]
  },
  {
   "cell_type": "code",
   "execution_count": 151,
   "metadata": {},
   "outputs": [],
   "source": [
    "info_per_reviewed_listings.to_csv(\"info_per_reviewed_listings.csv\")"
   ]
  },
  {
   "cell_type": "code",
   "execution_count": 152,
   "metadata": {},
   "outputs": [],
   "source": [
    "reviewers_info.to_csv(\"reviewers_info.csv\")"
   ]
  },
  {
   "cell_type": "code",
   "execution_count": null,
   "metadata": {},
   "outputs": [],
   "source": []
  }
 ],
 "metadata": {
  "kernelspec": {
   "display_name": "Python 3",
   "language": "python",
   "name": "python3"
  },
  "language_info": {
   "codemirror_mode": {
    "name": "ipython",
    "version": 3
   },
   "file_extension": ".py",
   "mimetype": "text/x-python",
   "name": "python",
   "nbconvert_exporter": "python",
   "pygments_lexer": "ipython3",
   "version": "3.7.1"
  }
 },
 "nbformat": 4,
 "nbformat_minor": 2
}
